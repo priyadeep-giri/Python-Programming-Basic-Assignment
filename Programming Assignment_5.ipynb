{
 "cells": [
  {
   "cell_type": "markdown",
   "metadata": {},
   "source": [
    "# 1. Write a Python Program to Find LCM?"
   ]
  },
  {
   "cell_type": "code",
   "execution_count": 2,
   "metadata": {},
   "outputs": [
    {
     "name": "stdout",
     "output_type": "stream",
     "text": [
      "Enter First number: 20\n",
      "Enter Second number: 5\n",
      "20\n"
     ]
    }
   ],
   "source": [
    "def lcm(a,b):\n",
    "    if a > b:\n",
    "        for i in range(1,a):\n",
    "            if (i*a) % b == 0:\n",
    "                print(i*a)\n",
    "            break\n",
    "    else:\n",
    "        for i in range(1,b):\n",
    "            if (i*b) % a == 0:\n",
    "                print(i*b)\n",
    "                break\n",
    "\n",
    "a = int(input(\"Enter First number: \"))\n",
    "b = int(input(\"Enter Second number: \"))\n",
    "\n",
    "lcm(a,b)"
   ]
  },
  {
   "cell_type": "markdown",
   "metadata": {},
   "source": [
    "# 2. Write a Python Program to Find HCF?"
   ]
  },
  {
   "cell_type": "code",
   "execution_count": 3,
   "metadata": {},
   "outputs": [
    {
     "name": "stdout",
     "output_type": "stream",
     "text": [
      "Enter first number: 12\n",
      "Enter second number: 14\n",
      "The HCF of 12 and 14 is 2\n"
     ]
    }
   ],
   "source": [
    "def hcf(a,b):\n",
    "    a1 = []\n",
    "    b2 = []\n",
    "    for i in range(1,a):\n",
    "        x = a % i\n",
    "        if x == 0:\n",
    "            a1.append(i)\n",
    "    a1_in_reverse = a1[::-1]\n",
    "\n",
    "    for j in range(1,b):\n",
    "        y = b % j\n",
    "        if y == 0:\n",
    "            b2.append(j)\n",
    "    b2_in_reverse = b2[::-1]\n",
    "\n",
    "    for i in a1_in_reverse:\n",
    "        if i in b2_in_reverse:\n",
    "            print(f\"The HCF of {a} and {b} is {i}\")\n",
    "            break\n",
    "\n",
    "a = int(input(\"Enter first number: \"))\n",
    "b = int(input(\"Enter second number: \"))\n",
    "\n",
    "hcf(a,b)"
   ]
  },
  {
   "cell_type": "markdown",
   "metadata": {},
   "source": [
    "# 3. Write a Python Program to Convert Decimal to Binary, Octal and Hexadecimal?"
   ]
  },
  {
   "cell_type": "code",
   "execution_count": 4,
   "metadata": {},
   "outputs": [
    {
     "name": "stdout",
     "output_type": "stream",
     "text": [
      "Enter a number: 45\n",
      "The binary of 45 is 0b101101\n",
      "The Octal of 45 is 0o55\n",
      "The Hexadecimal of 45 is 0x2d\n"
     ]
    }
   ],
   "source": [
    "a = int(input(\"Enter a number: \"))\n",
    "print(f\"The binary of {a} is {bin(a)}\")\n",
    "print(f\"The Octal of {a} is {oct(a)}\")\n",
    "print(f\"The Hexadecimal of {a} is {hex(a)}\")"
   ]
  },
  {
   "cell_type": "markdown",
   "metadata": {},
   "source": [
    "# 4. Write a Python Program To Find ASCII value of a character?"
   ]
  },
  {
   "cell_type": "code",
   "execution_count": 5,
   "metadata": {},
   "outputs": [
    {
     "name": "stdout",
     "output_type": "stream",
     "text": [
      "Enter a character: D\n",
      "The ASCII of D is 68\n"
     ]
    }
   ],
   "source": [
    "a = input(\"Enter a character: \")\n",
    "print(f\"The ASCII of {a} is {ord(a)}\")"
   ]
  },
  {
   "cell_type": "markdown",
   "metadata": {},
   "source": [
    "# 5. Write a Python Program to Make a Simple Calculator with 4 basic mathematical operations?"
   ]
  },
  {
   "cell_type": "code",
   "execution_count": null,
   "metadata": {},
   "outputs": [
    {
     "name": "stdout",
     "output_type": "stream",
     "text": [
      "Enter the first number: 45\n",
      "+\n",
      "-\n",
      "*\n",
      "/\n",
      "Pick an operation: -\n",
      "next number?: 10\n",
      "45.0-10.0 = 35.0\n"
     ]
    }
   ],
   "source": [
    "def add(n1, n2):\n",
    "    return n1 + n2\n",
    "def subtract(n1, n2):\n",
    "    return n1 - n2\n",
    "def multiply(n1, n2):\n",
    "    return n1 * n2\n",
    "def divide(n1, n2):\n",
    "    return n1 / n2\n",
    "operations = {\n",
    "    '+': add,\n",
    "    '-': subtract,\n",
    "    '*': multiply,\n",
    "    '/': divide,\n",
    "}\n",
    "def calculator():\n",
    "    num1 = float(input(\"Enter the first number: \"))\n",
    "    for symbol in operations:\n",
    "        print(symbol)\n",
    "\n",
    "    should_continue = True\n",
    "    while should_continue:\n",
    "        operation_symbol = input(\"Pick an operation: \")\n",
    "        num2 = float(input(\"next number?: \"))\n",
    "        calculation_function = operations[operation_symbol]\n",
    "        answer = calculation_function(num1,num2)\n",
    "        print(f\"{num1}{operation_symbol}{num2} = {answer}\")\n",
    "\n",
    "        if input(f\"Type 'y' to continue calculating with {answer} or type 'n' to start a new calculation. : \") == 'y':\n",
    "            num1 = answer\n",
    "        else:\n",
    "            should_continue = False\n",
    "            calculator()\n",
    "\n",
    "calculator()"
   ]
  }
 ],
 "metadata": {
  "kernelspec": {
   "display_name": "Python 3",
   "language": "python",
   "name": "python3"
  },
  "language_info": {
   "codemirror_mode": {
    "name": "ipython",
    "version": 3
   },
   "file_extension": ".py",
   "mimetype": "text/x-python",
   "name": "python",
   "nbconvert_exporter": "python",
   "pygments_lexer": "ipython3",
   "version": "3.8.5"
  }
 },
 "nbformat": 4,
 "nbformat_minor": 4
}
