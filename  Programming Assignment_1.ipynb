{
 "cells": [
  {
   "cell_type": "markdown",
   "metadata": {},
   "source": [
    "## Write a Python program to print \"Hello Python\"?"
   ]
  },
  {
   "cell_type": "code",
   "execution_count": 1,
   "metadata": {},
   "outputs": [
    {
     "name": "stdout",
     "output_type": "stream",
     "text": [
      "Hello Python\n"
     ]
    }
   ],
   "source": [
    "print(\"Hello Python\")"
   ]
  },
  {
   "cell_type": "markdown",
   "metadata": {},
   "source": [
    "## Write a Python program to do arithmetical operations addition and division.?"
   ]
  },
  {
   "cell_type": "code",
   "execution_count": 2,
   "metadata": {
    "scrolled": true
   },
   "outputs": [
    {
     "name": "stdout",
     "output_type": "stream",
     "text": [
      "num 1=50\n",
      "num 2=5\n",
      "Addition- 55 \n",
      " Division- 10.0\n"
     ]
    }
   ],
   "source": [
    "First_num= input('num 1=')\n",
    "second_num= input('num 2=')\n",
    "#For adiition operation\n",
    "sum= int(First_num)+int(second_num)\n",
    "#For division operation\n",
    "division= float(First_num)/float(second_num)\n",
    "print('Addition-',sum,'\\n','Division-',division)"
   ]
  },
  {
   "cell_type": "markdown",
   "metadata": {},
   "source": [
    "## Write a Python program to find the area of a triangle?"
   ]
  },
  {
   "cell_type": "code",
   "execution_count": 1,
   "metadata": {},
   "outputs": [
    {
     "name": "stdout",
     "output_type": "stream",
     "text": [
      "base=10\n",
      "height=50\n",
      "area of a triangle= 250.0\n"
     ]
    }
   ],
   "source": [
    "#area of a traiangle formula is 1/2(base*height)\n",
    "base=float(input('base='))\n",
    "height=float(input('height='))\n",
    "Area= 0.5*base*height\n",
    "print('area of a triangle=',Area)"
   ]
  },
  {
   "cell_type": "markdown",
   "metadata": {},
   "source": [
    "## Write a Python program to swap two variables?"
   ]
  },
  {
   "cell_type": "code",
   "execution_count": 4,
   "metadata": {},
   "outputs": [
    {
     "name": "stdout",
     "output_type": "stream",
     "text": [
      "x:1\n",
      "y:2\n",
      "After swappping x: 2 \n",
      " After swapping y 1\n"
     ]
    }
   ],
   "source": [
    "x=input('x:')\n",
    "y=input('y:')\n",
    "#afterswapping\n",
    "x,y=y,x\n",
    "print('After swappping x:',x,'\\n','After swapping y',y)"
   ]
  },
  {
   "cell_type": "markdown",
   "metadata": {},
   "source": [
    "## Write a Python program to generate a random number?"
   ]
  },
  {
   "cell_type": "code",
   "execution_count": 12,
   "metadata": {},
   "outputs": [
    {
     "name": "stdout",
     "output_type": "stream",
     "text": [
      "9\n"
     ]
    }
   ],
   "source": [
    "import random as rn\n",
    "print(rn.randint(0,10))"
   ]
  }
 ],
 "metadata": {
  "kernelspec": {
   "display_name": "Python 3",
   "language": "python",
   "name": "python3"
  },
  "language_info": {
   "codemirror_mode": {
    "name": "ipython",
    "version": 3
   },
   "file_extension": ".py",
   "mimetype": "text/x-python",
   "name": "python",
   "nbconvert_exporter": "python",
   "pygments_lexer": "ipython3",
   "version": "3.8.5"
  }
 },
 "nbformat": 4,
 "nbformat_minor": 4
}
